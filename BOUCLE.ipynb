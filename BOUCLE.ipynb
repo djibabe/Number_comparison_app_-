{
 "cells": [
  {
   "cell_type": "code",
   "execution_count": 2,
   "id": "a03e0404",
   "metadata": {},
   "outputs": [],
   "source": [
    "#let's create a loop in the scoop of a function that compare two numbers between 0 and 100 and invite a user \n",
    "#to enter any number between those two numbers including them. \n",
    "\n",
    "def comparison():\n",
    "    for i in range(5):\n",
    "        try:\n",
    "            nb1 = float(input(\"enter any number between 0 and 100:\"))\n",
    "            nb2 = float(input(\"enter a second number between 0 and 100:\"))\n",
    "            if not(0 <= nb1 <=100 and 0 <= nb2 <= 100):\n",
    "                raise ValueError(\"Numbers must be between 0 and 100\")\n",
    "            if nb1 > nb2:\n",
    "                print(f\"{nb1} is greater than {nb2} \")\n",
    "            elif nb1 == nb2:\n",
    "                print(f\"{nb2} is equal to {nb1}\")\n",
    "            else:\n",
    "                print(f\"{nb2} is greater than {nb1} \")\n",
    "        except ValueError as e:\n",
    "            print(f\"Invalid Input: {e}\")\n",
    "            print(f\"Please try it again! \")"
   ]
  }
 ],
 "metadata": {
  "kernelspec": {
   "display_name": "Python_Data",
   "language": "python",
   "name": "python3"
  },
  "language_info": {
   "codemirror_mode": {
    "name": "ipython",
    "version": 3
   },
   "file_extension": ".py",
   "mimetype": "text/x-python",
   "name": "python",
   "nbconvert_exporter": "python",
   "pygments_lexer": "ipython3",
   "version": "3.10.18"
  }
 },
 "nbformat": 4,
 "nbformat_minor": 5
}
